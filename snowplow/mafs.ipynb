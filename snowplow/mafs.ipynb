{
 "cells": [
  {
   "cell_type": "code",
   "execution_count": 2,
   "metadata": {
    "scrolled": false
   },
   "outputs": [
    {
     "name": "stdout",
     "output_type": "stream",
     "text": [
      "Collecting matplotlib\n",
      "  Downloading matplotlib-3.2.2-cp37-cp37m-win_amd64.whl (9.2 MB)\n",
      "Collecting numpy>=1.11\n",
      "  Downloading numpy-1.19.0-cp37-cp37m-win_amd64.whl (13.0 MB)\n",
      "Collecting kiwisolver>=1.0.1\n",
      "  Downloading kiwisolver-1.2.0-cp37-none-win_amd64.whl (57 kB)\n",
      "Collecting cycler>=0.10\n",
      "  Downloading cycler-0.10.0-py2.py3-none-any.whl (6.5 kB)\n",
      "Requirement already satisfied: pyparsing!=2.0.4,!=2.1.2,!=2.1.6,>=2.0.1 in c:\\users\\marow\\miniconda3\\lib\\site-packages (from matplotlib) (2.4.7)\n",
      "Requirement already satisfied: python-dateutil>=2.1 in c:\\users\\marow\\miniconda3\\lib\\site-packages (from matplotlib) (2.8.1)\n",
      "Requirement already satisfied: six in c:\\users\\marow\\miniconda3\\lib\\site-packages (from cycler>=0.10->matplotlib) (1.14.0)\n",
      "Installing collected packages: numpy, kiwisolver, cycler, matplotlib\n",
      "Successfully installed cycler-0.10.0 kiwisolver-1.2.0 matplotlib-3.2.2 numpy-1.19.0\n",
      "Note: you may need to restart the kernel to use updated packages.\n"
     ]
    }
   ],
   "source": [
    "pip install matplotlib"
   ]
  },
  {
   "cell_type": "code",
   "execution_count": 12,
   "metadata": {},
   "outputs": [],
   "source": [
    "import networkx as nx\n",
    "import matplotlib.pyplot as plt"
   ]
  },
  {
   "cell_type": "code",
   "execution_count": 13,
   "metadata": {},
   "outputs": [],
   "source": [
    "G = nx.MultiGraph()\n"
   ]
  },
  {
   "cell_type": "code",
   "execution_count": 15,
   "metadata": {},
   "outputs": [
    {
     "data": {
      "text/plain": [
       "1"
      ]
     },
     "execution_count": 15,
     "metadata": {},
     "output_type": "execute_result"
    }
   ],
   "source": [
    "G.add_edge(1, 2, weight=10)\n",
    "G.add_edge(1,4, weight=12)\n",
    "G.add_edge(4,3, weight=13)\n",
    "G.add_edge(3, 2, weight=33)\n",
    "G.add_edge(4, 5, weight=5)\n",
    "G.add_edge(5, 3, weight=22)\n",
    "G.add_edge(2, 6, weight=44)\n",
    "G.add_edge(6, 3, weight=57)\n",
    "G.add_edge(6, 7, weight=42)\n",
    "G.add_edge(5, 7, weight=88)\n",
    "G.add_edge(6, 8, weight=69)\n",
    "G.add_edge(8, 9, weight=18)\n",
    "G.add_edge(9, 5, weight=95)\n",
    "G.add_edge(7, 8, weight=7)"
   ]
  },
  {
   "cell_type": "code",
   "execution_count": 60,
   "metadata": {},
   "outputs": [
    {
     "data": {
      "text/plain": [
       "MultiEdgeDataView([(1, 2, 10), (1, 4, 12), (2, 3, 33), (2, 6, 44), (4, 3, 13), (4, 5, 5), (3, 5, 22), (3, 6, 57), (5, 7, 88), (5, 9, 95), (6, 7, 42), (6, 8, 69), (7, 8, 7), (8, 9, 18)])"
      ]
     },
     "execution_count": 60,
     "metadata": {},
     "output_type": "execute_result"
    }
   ],
   "source": [
    "a = G.edges(data='weight')\n",
    "a"
   ]
  },
  {
   "cell_type": "code",
   "execution_count": 17,
   "metadata": {},
   "outputs": [
    {
     "data": {
      "image/png": "[encoded data removed]",
      "text/plain": [
       "<Figure size 432x288 with 1 Axes>"
      ]
     },
     "metadata": {},
     "output_type": "display_data"
    }
   ],
   "source": [
    "def print_GRF(G):\n",
    "    lol = nx.Graph(G)\n",
    "\n",
    "    pos = nx.spring_layout(G)\n",
    "\n",
    "    nx.draw_networkx(G, pos)\n",
    "    labels = nx.get_edge_attributes(lol,'weight')\n",
    "    a = nx.draw_networkx_edge_labels(G,pos,edge_labels=labels)\n",
    "print_GRF(G)"
   ]
  },
  {
   "cell_type": "code",
   "execution_count": 62,
   "metadata": {},
   "outputs": [],
   "source": [
    "nodesDegOdd = []\n",
    "for node, degree in G.degree():\n",
    "    if degree % 2 == 1:\n",
    "        nodesDegOdd.append(node)"
   ]
  },
  {
   "cell_type": "code",
   "execution_count": 9,
   "metadata": {},
   "outputs": [
    {
     "data": {
      "text/plain": [
       "[2, 4, 7, 8]"
      ]
     },
     "execution_count": 9,
     "metadata": {},
     "output_type": "execute_result"
    }
   ],
   "source": [
    "nodesDegOdd"
   ]
  },
  {
   "cell_type": "code",
   "execution_count": 10,
   "metadata": {},
   "outputs": [],
   "source": [
    "shortPathList = []\n",
    "for i in range(len(nodesDegOdd)):\n",
    "    u = nodesDegOdd[i]\n",
    "    for v in nodesDegOdd[i + 1:]:\n",
    "        elm = (nx.shortest_path(G, u, v, weight='weight'), -nx.shortest_path_length(G,u,v,weight='weight'))\n",
    "        shortPathList.append(elm)"
   ]
  },
  {
   "cell_type": "code",
   "execution_count": 11,
   "metadata": {},
   "outputs": [
    {
     "data": {
      "text/plain": [
       "[([2, 1, 4], -22),\n",
       " ([2, 6, 7], -86),\n",
       " ([2, 6, 7, 8], -93),\n",
       " ([4, 5, 7], -93),\n",
       " ([4, 5, 7, 8], -100),\n",
       " ([7, 8], -7)]"
      ]
     },
     "execution_count": 11,
     "metadata": {},
     "output_type": "execute_result"
    }
   ],
   "source": [
    "shortPathList"
   ]
  },
  {
   "cell_type": "code",
   "execution_count": 19,
   "metadata": {},
   "outputs": [],
   "source": [
    "nG = nx.Graph()\n",
    "\n",
    "edgeToPath = {}\n",
    "\n",
    "for path in shortPathList:\n",
    "    edge = (path[0][0], path[0][-1])\n",
    "    otherEdge = (path[0][-1], path[0][0])\n",
    "    edgeToPath[edge] = path[0]\n",
    "    edgeToPath[otherEdge] = path[0]\n",
    "    nG.add_edge(edge[0], edge[1], weight=path[1])"
   ]
  },
  {
   "cell_type": "code",
   "execution_count": 20,
   "metadata": {},
   "outputs": [
    {
     "data": {
      "text/plain": [
       "{(2, 4): [2, 1, 4],\n",
       " (4, 2): [2, 1, 4],\n",
       " (2, 7): [2, 6, 7],\n",
       " (7, 2): [2, 6, 7],\n",
       " (2, 8): [2, 6, 7, 8],\n",
       " (8, 2): [2, 6, 7, 8],\n",
       " (4, 7): [4, 5, 7],\n",
       " (7, 4): [4, 5, 7],\n",
       " (4, 8): [4, 5, 7, 8],\n",
       " (8, 4): [4, 5, 7, 8],\n",
       " (7, 8): [7, 8],\n",
       " (8, 7): [7, 8]}"
      ]
     },
     "execution_count": 20,
     "metadata": {},
     "output_type": "execute_result"
    }
   ],
   "source": [
    "edgeToPath"
   ]
  },
  {
   "cell_type": "code",
   "execution_count": 14,
   "metadata": {},
   "outputs": [
    {
     "data": {
      "text/plain": [
       "EdgeDataView([(2, 4, -22), (2, 7, -86), (2, 8, -93), (4, 7, -93), (4, 8, -100), (7, 8, -7)])"
      ]
     },
     "execution_count": 14,
     "metadata": {},
     "output_type": "execute_result"
    }
   ],
   "source": [
    "nG.edges(data='weight')"
   ]
  },
  {
   "cell_type": "code",
   "execution_count": 15,
   "metadata": {},
   "outputs": [
    {
     "data": {
      "image/png": "[encoded data removed]",
      "text/plain": [
       "<Figure size 432x288 with 1 Axes>"
      ]
     },
     "metadata": {},
     "output_type": "display_data"
    }
   ],
   "source": [
    "pos = nx.spring_layout(nG)\n",
    "\n",
    "nx.draw_networkx(nG, pos)\n",
    "labels = nx.get_edge_attributes(nG,'weight')\n",
    "a = nx.draw_networkx_edge_labels(nG,pos,edge_labels=labels)"
   ]
  },
  {
   "cell_type": "code",
   "execution_count": 16,
   "metadata": {},
   "outputs": [
    {
     "name": "stdout",
     "output_type": "stream",
     "text": [
      "{(8, 7), (2, 4)}\n"
     ]
    }
   ],
   "source": [
    "matching = nx.max_weight_matching(nG, True, weight='weight')\n",
    "print(matching)"
   ]
  },
  {
   "cell_type": "code",
   "execution_count": 17,
   "metadata": {},
   "outputs": [
    {
     "data": {
      "text/plain": [
       "MultiEdgeDataView([(1, 2), (1, 4), (2, 3), (2, 6), (4, 3), (4, 5), (3, 5), (3, 6), (5, 7), (5, 9), (6, 7), (6, 8), (7, 8), (8, 9)])"
      ]
     },
     "execution_count": 17,
     "metadata": {},
     "output_type": "execute_result"
    }
   ],
   "source": [
    "G.edges()"
   ]
  },
  {
   "cell_type": "code",
   "execution_count": 21,
   "metadata": {},
   "outputs": [],
   "source": [
    "for edge in matching:\n",
    "    path = edgeToPath[edge]\n",
    "    for i in range(len(path) - 1):\n",
    "        src = path[i]\n",
    "        dst = path[i + 1]\n",
    "        weight = G.edges[src, dst, 0]['weight']\n",
    "        G.add_edge(src, dst, weight)"
   ]
  },
  {
   "cell_type": "code",
   "execution_count": 23,
   "metadata": {},
   "outputs": [
    {
     "data": {
      "image/png": "[encoded data removed]",
      "text/plain": [
       "<Figure size 432x288 with 1 Axes>"
      ]
     },
     "metadata": {},
     "output_type": "display_data"
    }
   ],
   "source": [
    "G.edges()\n",
    "print_GRF(G)"
   ]
  },
  {
   "cell_type": "code",
   "execution_count": 27,
   "metadata": {},
   "outputs": [
    {
     "name": "stdout",
     "output_type": "stream",
     "text": [
      "4\n",
      "4\n",
      "4\n",
      "4\n",
      "4\n",
      "4\n",
      "4\n",
      "4\n",
      "2\n"
     ]
    }
   ],
   "source": [
    "for node, degree in G.degree():\n",
    "    print(degree)"
   ]
  },
  {
   "cell_type": "code",
   "execution_count": 49,
   "metadata": {},
   "outputs": [
    {
     "data": {
      "text/plain": [
       "17"
      ]
     },
     "execution_count": 49,
     "metadata": {},
     "output_type": "execute_result"
    }
   ],
   "source": [
    "len(G.edges())"
   ]
  },
  {
   "cell_type": "code",
   "execution_count": 51,
   "metadata": {},
   "outputs": [],
   "source": [
    "hehe = nx.eulerian_path(G)"
   ]
  },
  {
   "cell_type": "code",
   "execution_count": 112,
   "metadata": {},
   "outputs": [],
   "source": [
    "# Undirected = MultiGraph\n",
    "def solveNx(g):\n",
    "    # Store nodes having incidence degree that is odd\n",
    "    nodesDegOdd = []\n",
    "    for node, degree in g.degree():\n",
    "        if degree % 2 == 1:\n",
    "            nodesDegOdd.append(node)\n",
    "    \n",
    "    # Find shortest path between each nodes\n",
    "    \n",
    "    shortPathList = []\n",
    "    \n",
    "    for i in range(len(nodesDegOdd)):\n",
    "        u = nodesDegOdd[i]\n",
    "        for v in nodesDegOdd[i:]:\n",
    "            elm = (nx.shortest_path(g, u, v, weight='weight'), -nx.shortest_path_length(g,u,v,weight='weight'))\n",
    "            shortPathList.append(elm)\n",
    "            \n",
    "    \n",
    "    # Make a graph of the odd nodes that links the nodes  by their shortest path\n",
    "    #   each edge will have the shortest path as weight\n",
    "    \n",
    "    nG = nx.Graph()\n",
    "\n",
    "    edgeToPath = {}\n",
    "\n",
    "    for path in shortPathList:\n",
    "        edge = (path[0][0], path[0][-1])\n",
    "        otherEdge = (path[0][-1], path[0][0])\n",
    "        edgeToPath[edge] = path[0]\n",
    "        edgeToPath[otherEdge] = path[0]\n",
    "        nG.add_edge(edge[0], edge[1], weight=path[1])\n",
    "    \n",
    "    # Do the MINIMAL matching weighted matching\n",
    "    \n",
    "    matching = nx.max_weight_matching(nG, True, weight='weight')\n",
    "    \n",
    "    # We have all the edges that represent the minimum paths\n",
    "    \n",
    "    for edge in matching:\n",
    "        path = edgeToPath[edge]\n",
    "        for i in range(len(path) - 1):\n",
    "            src = path[i]\n",
    "            dst = path[i + 1]\n",
    "            weight = g.edges[src, dst, 0]['weight']\n",
    "            g.add_edge(src, dst, weight=weight)\n",
    "    \n",
    "    # Find all paths using edges to add to the original graph for it to be an eulerian cycle\n",
    "    \n",
    "    it = nx.eulerian_circuit(g)\n",
    "    edgeList = []\n",
    "    for edge in it:\n",
    "        edgeList.append(edge)\n",
    "    return edgeList"
   ]
  },
  {
   "cell_type": "code",
   "execution_count": 124,
   "metadata": {},
   "outputs": [
    {
     "name": "stdout",
     "output_type": "stream",
     "text": [
      "[(1, 2), (2, 2), (3, 2), (4, 3), (5, 3)]\n",
      "[(1, 3), (2, 3), (3, 3), (4, 1), (5, 2)]\n"
     ]
    },
    {
     "data": {
      "image/png": "[encoded data removed]",
      "text/plain": [
       "<Figure size 432x288 with 1 Axes>"
      ]
     },
     "metadata": {},
     "output_type": "display_data"
    }
   ],
   "source": [
    "dirg = nx.MultiDiGraph()\n",
    "dirg.add_edge(1, 2, weight=10)\n",
    "dirg.add_edge(2,1, weight=12)\n",
    "dirg.add_edge(1,3, weight=13)\n",
    "dirg.add_edge(3, 1, weight=33)\n",
    "dirg.add_edge(4, 1, weight=5)\n",
    "dirg.add_edge(4, 2, weight=22)\n",
    "dirg.add_edge(4, 3, weight=44)\n",
    "dirg.add_edge(5, 2, weight=57)\n",
    "dirg.add_edge(2, 5, weight=42)\n",
    "dirg.add_edge(5, 3, weight=88)\n",
    "dirg.add_edge(3, 5, weight=69)\n",
    "dirg.add_edge(5, 4, weight=18)\n",
    "print_GRF(dirg)\n",
    "print(dirg.out_degree())\n",
    "print(dirg.in_degree())"
   ]
  },
  {
   "cell_type": "code",
   "execution_count": 61,
   "metadata": {},
   "outputs": [
    {
     "name": "stdout",
     "output_type": "stream",
     "text": [
      "[1, 2, 3]\n",
      "[4, 5]\n"
     ]
    }
   ],
   "source": [
    "# Store nodes having incidence degree that is odd\n",
    "g = dirg\n",
    "nodesHigherOut = []\n",
    "nodesHigherIn = []\n",
    "for node in g.nodes():\n",
    "    if (g.out_degree(node) > g.in_degree(node)):\n",
    "        nodesHigherOut.append(node)\n",
    "    elif (g.in_degree(node) > g.out_degree(node)):\n",
    "        nodesHigherIn.append(node)\n",
    "print(nodesHigherIn)\n",
    "print(nodesHigherOut)"
   ]
  },
  {
   "cell_type": "code",
   "execution_count": 119,
   "metadata": {},
   "outputs": [],
   "source": [
    "#Directed\n",
    "def solveNxDir(g):\n",
    "    while (not nx.is_eulerian(g)):\n",
    "       # Store nodes having incidence degree that is odd\n",
    "        nodesHigherOut = []\n",
    "        nodesHigherIn = []\n",
    "        for node in g.nodes():\n",
    "            if (g.out_degree(node) > g.in_degree(node)):\n",
    "                nodesHigherOut.append(node)\n",
    "            elif (g.in_degree(node) > g.out_degree(node)):\n",
    "                nodesHigherIn.append(node)\n",
    "\n",
    "        # Find shortest path between each nodes\n",
    "\n",
    "        shortPathList = []\n",
    "\n",
    "        for src in nodesHigherIn:\n",
    "            for dst in nodesHigherOut:\n",
    "                elm = (nx.shortest_path(g, src, dst, weight='weight'), -nx.shortest_path_length(g,src,dst,weight='weight'))\n",
    "                shortPathList.append(elm)\n",
    "\n",
    "\n",
    "        # Make a graph of the odd nodes that links the nodes  by their shortest path\n",
    "        #   each edge will have the shortest path as weight\n",
    "    \n",
    "        nG = nx.Graph()\n",
    "\n",
    "        edgeToPath = {}\n",
    "\n",
    "        for path in shortPathList:\n",
    "            edge = (path[0][0], path[0][-1])\n",
    "            edgeToPath[edge] = path[0]\n",
    "            nG.add_edge(edge[0], edge[1], weight=path[1])\n",
    "\n",
    "        # Do the MINIMAL matching weighted matching\n",
    "\n",
    "        matching = nx.max_weight_matching(nG, True, weight='weight')\n",
    "\n",
    "        # We have all the edges that represent the minimum paths\n",
    "\n",
    "        for edge in matching:\n",
    "            path = edgeToPath[edge]\n",
    "            for i in range(len(path) - 1):\n",
    "                src = path[i]\n",
    "                dst = path[i + 1]\n",
    "                weight = g.edges[src, dst, 0]['weight']\n",
    "                g.add_edge(src, dst, weight=weight)\n",
    "    \n",
    "    # Find all paths using edges to add to the original graph for it to be an eulerian cycle\n",
    "    \n",
    "    it = nx.eulerian_circuit(g)\n",
    "    edgeList = []\n",
    "    for edge in it:\n",
    "        edgeList.append(edge)\n",
    "    return edgeList"
   ]
  },
  {
   "cell_type": "code",
   "execution_count": 23,
   "metadata": {},
   "outputs": [],
   "source": [
    "def solve(is_oriented, num_vertices, edge_list):\n",
    "    g = nx.MultiGraph()\n",
    "    twoEdgeList = []\n",
    "    \n",
    "    for edge in edge_list:\n",
    "        g.add_edge(edge[0], edge[1], weight=edge[2])\n",
    "        twoEdgeList.append(edge[0], edge[1])\n",
    "        \n",
    "    if (not is_oriented):\n",
    "        path = solveNx(g)\n",
    "    else:\n",
    "        path = solveNxDir(g)\n",
    "    \n",
    "    for i in range(len(path)):\n",
    "        path[i] = twoEdgeList.index(path[i])\n",
    "        \n",
    "    return path"
   ]
  },
  {
   "cell_type": "code",
   "execution_count": 66,
   "metadata": {},
   "outputs": [
    {
     "data": {
      "text/plain": [
       "[(1, 4),\n",
       " (4, 5),\n",
       " (5, 9),\n",
       " (9, 8),\n",
       " (8, 7),\n",
       " (7, 8),\n",
       " (8, 6),\n",
       " (6, 7),\n",
       " (7, 5),\n",
       " (5, 3),\n",
       " (3, 6),\n",
       " (6, 2),\n",
       " (2, 3),\n",
       " (3, 4),\n",
       " (4, 1),\n",
       " (1, 2),\n",
       " (2, 1)]"
      ]
     },
     "execution_count": 66,
     "metadata": {},
     "output_type": "execute_result"
    }
   ],
   "source": [
    "solveNx(G)"
   ]
  },
  {
   "cell_type": "code",
   "execution_count": 123,
   "metadata": {
    "scrolled": true
   },
   "outputs": [
    {
     "data": {
      "text/plain": [
       "[(1, 2),\n",
       " (2, 5),\n",
       " (5, 3),\n",
       " (3, 5),\n",
       " (5, 4),\n",
       " (4, 3),\n",
       " (3, 5),\n",
       " (5, 2),\n",
       " (2, 5),\n",
       " (5, 4),\n",
       " (4, 2),\n",
       " (2, 5),\n",
       " (5, 4),\n",
       " (4, 1),\n",
       " (1, 3),\n",
       " (3, 1),\n",
       " (1, 2),\n",
       " (2, 1)]"
      ]
     },
     "execution_count": 123,
     "metadata": {},
     "output_type": "execute_result"
    }
   ],
   "source": [
    "solveNxDir(dirg)"
   ]
  },
  {
   "cell_type": "code",
   "execution_count": 37,
   "metadata": {},
   "outputs": [
    {
     "data": {
      "text/plain": [
       "MultiEdgeDataView([(1, 2), (1, 2), (1, 4), (1, 4), (2, 3), (2, 3), (2, 6), (2, 6), (4, 3), (4, 3), (4, 5), (4, 5), (3, 5), (3, 5), (3, 6), (3, 6), (5, 7), (5, 7), (5, 9), (5, 9), (6, 7), (6, 7), (6, 8), (6, 8), (7, 8), (7, 8), (8, 9), (8, 9)])"
      ]
     },
     "execution_count": 37,
     "metadata": {},
     "output_type": "execute_result"
    }
   ],
   "source": [
    "G.edges()"
   ]
  },
  {
   "cell_type": "code",
   "execution_count": 74,
   "metadata": {},
   "outputs": [],
   "source": [
    "F = nx.eulerize(G)"
   ]
  },
  {
   "cell_type": "code",
   "execution_count": 75,
   "metadata": {},
   "outputs": [
    {
     "data": {
      "text/plain": [
       "MultiEdgeDataView([(1, 2), (1, 2), (1, 4), (1, 4), (2, 3), (2, 6), (4, 3), (4, 5), (3, 5), (3, 6), (5, 7), (5, 9), (6, 7), (6, 8), (7, 8), (7, 8), (8, 9)])"
      ]
     },
     "execution_count": 75,
     "metadata": {},
     "output_type": "execute_result"
    }
   ],
   "source": [
    "F.edges()"
   ]
  },
  {
   "cell_type": "code",
   "execution_count": null,
   "metadata": {},
   "outputs": [],
   "source": []
  }
 ],
 "metadata": {
  "kernelspec": {
   "display_name": "Python 3",
   "language": "python",
   "name": "python3"
  },
  "language_info": {
   "codemirror_mode": {
    "name": "ipython",
    "version": 3
   },
   "file_extension": ".py",
   "mimetype": "text/x-python",
   "name": "python",
   "nbconvert_exporter": "python",
   "pygments_lexer": "ipython3",
   "version": "3.7.7"
  }
 },
 "nbformat": 4,
 "nbformat_minor": 4
}
