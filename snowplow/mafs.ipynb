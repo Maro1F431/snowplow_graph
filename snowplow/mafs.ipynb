{
 "cells": [
  {
   "cell_type": "code",
   "execution_count": 1,
   "metadata": {},
   "outputs": [],
   "source": [
    "import networkx as nx\n",
    "import matplotlib.pyplot as plt"
   ]
  },
  {
   "cell_type": "code",
   "execution_count": 2,
   "metadata": {},
   "outputs": [],
   "source": [
    "G = nx.MultiGraph()\n"
   ]
  },
  {
   "cell_type": "code",
   "execution_count": 3,
   "metadata": {},
   "outputs": [
    {
     "output_type": "execute_result",
     "data": {
      "text/plain": "0"
     },
     "metadata": {},
     "execution_count": 3
    }
   ],
   "source": [
    "G.add_edge(1, 2, weight=10)\n",
    "G.add_edge(1,4, weight=12)\n",
    "G.add_edge(4,3, weight=13)\n",
    "G.add_edge(3, 2, weight=33)\n",
    "G.add_edge(4, 5, weight=5)\n",
    "G.add_edge(5, 3, weight=22)\n",
    "G.add_edge(2, 6, weight=44)\n",
    "G.add_edge(6, 3, weight=57)\n",
    "G.add_edge(6, 7, weight=42)\n",
    "G.add_edge(5, 7, weight=88)\n",
    "G.add_edge(6, 8, weight=69)\n",
    "G.add_edge(8, 9, weight=18)\n",
    "G.add_edge(9, 5, weight=95)\n",
    "G.add_edge(7, 8, weight=7)"
   ]
  },
  {
   "cell_type": "code",
   "execution_count": 4,
   "metadata": {},
   "outputs": [
    {
     "output_type": "execute_result",
     "data": {
      "text/plain": "MultiEdgeDataView([(1, 2, 10), (1, 4, 12), (2, 3, 33), (2, 6, 44), (4, 3, 13), (4, 5, 5), (3, 5, 22), (3, 6, 57), (5, 7, 88), (5, 9, 95), (6, 7, 42), (6, 8, 69), (7, 8, 7), (8, 9, 18)])"
     },
     "metadata": {},
     "execution_count": 4
    }
   ],
   "source": [
    "a = G.edges(data='weight')\n",
    "a"
   ]
  },
  {
   "cell_type": "code",
   "execution_count": 5,
   "metadata": {},
   "outputs": [
    {
     "output_type": "error",
     "ename": "NameError",
     "evalue": "name 'G' is not defined",
     "traceback": [
      "\u001b[0;31m---------------------------------------------------------------------------\u001b[0m",
      "\u001b[0;31mNameError\u001b[0m                                 Traceback (most recent call last)",
      "\u001b[0;32m<ipython-input-5-5bcf02d6eeb9>\u001b[0m in \u001b[0;36m<module>\u001b[0;34m\u001b[0m\n\u001b[1;32m      7\u001b[0m     \u001b[0mlabels\u001b[0m \u001b[0;34m=\u001b[0m \u001b[0mnx\u001b[0m\u001b[0;34m.\u001b[0m\u001b[0mget_edge_attributes\u001b[0m\u001b[0;34m(\u001b[0m\u001b[0mlol\u001b[0m\u001b[0;34m,\u001b[0m\u001b[0;34m'weight'\u001b[0m\u001b[0;34m)\u001b[0m\u001b[0;34m\u001b[0m\u001b[0;34m\u001b[0m\u001b[0m\n\u001b[1;32m      8\u001b[0m     \u001b[0ma\u001b[0m \u001b[0;34m=\u001b[0m \u001b[0mnx\u001b[0m\u001b[0;34m.\u001b[0m\u001b[0mdraw_networkx_edge_labels\u001b[0m\u001b[0;34m(\u001b[0m\u001b[0mG\u001b[0m\u001b[0;34m,\u001b[0m\u001b[0mpos\u001b[0m\u001b[0;34m,\u001b[0m\u001b[0medge_labels\u001b[0m\u001b[0;34m=\u001b[0m\u001b[0mlabels\u001b[0m\u001b[0;34m)\u001b[0m\u001b[0;34m\u001b[0m\u001b[0;34m\u001b[0m\u001b[0m\n\u001b[0;32m----> 9\u001b[0;31m \u001b[0mprint_GRF\u001b[0m\u001b[0;34m(\u001b[0m\u001b[0mG\u001b[0m\u001b[0;34m)\u001b[0m\u001b[0;34m\u001b[0m\u001b[0;34m\u001b[0m\u001b[0m\n\u001b[0m",
      "\u001b[0;31mNameError\u001b[0m: name 'G' is not defined"
     ]
    }
   ],
   "source": [
    "def print_GRF(G):\n",
    "    lol = nx.Graph(G)\n",
    "\n",
    "    pos = nx.spring_layout(G)\n",
    "\n",
    "    nx.draw_networkx(G, pos)\n",
    "    labels = nx.get_edge_attributes(lol,'weight')\n",
    "    a = nx.draw_networkx_edge_labels(G,pos,edge_labels=labels)\n",
    "print_GRF(G)"
   ]
  },
  {
   "cell_type": "code",
   "execution_count": 62,
   "metadata": {},
   "outputs": [],
   "source": [
    "nodesDegOdd = []\n",
    "for node, degree in G.degree():\n",
    "    if degree % 2 == 1:\n",
    "        nodesDegOdd.append(node)"
   ]
  },
  {
   "cell_type": "code",
   "execution_count": 9,
   "metadata": {},
   "outputs": [
    {
     "data": {
      "text/plain": [
       "[2, 4, 7, 8]"
      ]
     },
     "execution_count": 9,
     "metadata": {},
     "output_type": "execute_result"
    }
   ],
   "source": [
    "nodesDegOdd"
   ]
  },
  {
   "cell_type": "code",
   "execution_count": 10,
   "metadata": {},
   "outputs": [],
   "source": [
    "shortPathList = []\n",
    "for i in range(len(nodesDegOdd)):\n",
    "    u = nodesDegOdd[i]\n",
    "    for v in nodesDegOdd[i + 1:]:\n",
    "        elm = (nx.shortest_path(G, u, v, weight='weight'), -nx.shortest_path_length(G,u,v,weight='weight'))\n",
    "        shortPathList.append(elm)"
   ]
  },
  {
   "cell_type": "code",
   "execution_count": 11,
   "metadata": {},
   "outputs": [
    {
     "data": {
      "text/plain": [
       "[([2, 1, 4], -22),\n",
       " ([2, 6, 7], -86),\n",
       " ([2, 6, 7, 8], -93),\n",
       " ([4, 5, 7], -93),\n",
       " ([4, 5, 7, 8], -100),\n",
       " ([7, 8], -7)]"
      ]
     },
     "execution_count": 11,
     "metadata": {},
     "output_type": "execute_result"
    }
   ],
   "source": [
    "shortPathList"
   ]
  },
  {
   "cell_type": "code",
   "execution_count": 19,
   "metadata": {},
   "outputs": [],
   "source": [
    "nG = nx.Graph()\n",
    "\n",
    "edgeToPath = {}\n",
    "\n",
    "for path in shortPathList:\n",
    "    edge = (path[0][0], path[0][-1])\n",
    "    otherEdge = (path[0][-1], path[0][0])\n",
    "    edgeToPath[edge] = path[0]\n",
    "    edgeToPath[otherEdge] = path[0]\n",
    "    nG.add_edge(edge[0], edge[1], weight=path[1])"
   ]
  },
  {
   "cell_type": "code",
   "execution_count": 20,
   "metadata": {},
   "outputs": [
    {
     "data": {
      "text/plain": [
       "{(2, 4): [2, 1, 4],\n",
       " (4, 2): [2, 1, 4],\n",
       " (2, 7): [2, 6, 7],\n",
       " (7, 2): [2, 6, 7],\n",
       " (2, 8): [2, 6, 7, 8],\n",
       " (8, 2): [2, 6, 7, 8],\n",
       " (4, 7): [4, 5, 7],\n",
       " (7, 4): [4, 5, 7],\n",
       " (4, 8): [4, 5, 7, 8],\n",
       " (8, 4): [4, 5, 7, 8],\n",
       " (7, 8): [7, 8],\n",
       " (8, 7): [7, 8]}"
      ]
     },
     "execution_count": 20,
     "metadata": {},
     "output_type": "execute_result"
    }
   ],
   "source": [
    "edgeToPath"
   ]
  },
  {
   "cell_type": "code",
   "execution_count": 14,
   "metadata": {},
   "outputs": [
    {
     "data": {
      "text/plain": [
       "EdgeDataView([(2, 4, -22), (2, 7, -86), (2, 8, -93), (4, 7, -93), (4, 8, -100), (7, 8, -7)])"
      ]
     },
     "execution_count": 14,
     "metadata": {},
     "output_type": "execute_result"
    }
   ],
   "source": [
    "nG.edges(data='weight')"
   ]
  },
  {
   "cell_type": "code",
   "execution_count": 15,
   "metadata": {},
   "outputs": [
    {
     "data": {
      "image/png": "[encoded data removed]",
      "text/plain": [
       "<Figure size 432x288 with 1 Axes>"
      ]
     },
     "metadata": {},
     "output_type": "display_data"
    }
   ],
   "source": [
    "pos = nx.spring_layout(nG)\n",
    "\n",
    "nx.draw_networkx(nG, pos)\n",
    "labels = nx.get_edge_attributes(nG,'weight')\n",
    "a = nx.draw_networkx_edge_labels(nG,pos,edge_labels=labels)"
   ]
  },
  {
   "cell_type": "code",
   "execution_count": 16,
   "metadata": {},
   "outputs": [
    {
     "name": "stdout",
     "output_type": "stream",
     "text": [
      "{(8, 7), (2, 4)}\n"
     ]
    }
   ],
   "source": [
    "matching = nx.max_weight_matching(nG, True, weight='weight')\n",
    "print(matching)"
   ]
  },
  {
   "cell_type": "code",
   "execution_count": 17,
   "metadata": {},
   "outputs": [
    {
     "data": {
      "text/plain": [
       "MultiEdgeDataView([(1, 2), (1, 4), (2, 3), (2, 6), (4, 3), (4, 5), (3, 5), (3, 6), (5, 7), (5, 9), (6, 7), (6, 8), (7, 8), (8, 9)])"
      ]
     },
     "execution_count": 17,
     "metadata": {},
     "output_type": "execute_result"
    }
   ],
   "source": [
    "G.edges()"
   ]
  },
  {
   "cell_type": "code",
   "execution_count": 21,
   "metadata": {},
   "outputs": [],
   "source": [
    "for edge in matching:\n",
    "    path = edgeToPath[edge]\n",
    "    for i in range(len(path) - 1):\n",
    "        src = path[i]\n",
    "        dst = path[i + 1]\n",
    "        weight = G.edges[src, dst, 0]['weight']\n",
    "        G.add_edge(src, dst, weight)"
   ]
  },
  {
   "cell_type": "code",
   "execution_count": 23,
   "metadata": {},
   "outputs": [
    {
     "data": {
      "image/png": "[encoded data removed]",
      "text/plain": [
       "<Figure size 432x288 with 1 Axes>"
      ]
     },
     "metadata": {},
     "output_type": "display_data"
    }
   ],
   "source": [
    "G.edges()\n",
    "print_GRF(G)"
   ]
  },
  {
   "cell_type": "code",
   "execution_count": 27,
   "metadata": {},
   "outputs": [
    {
     "name": "stdout",
     "output_type": "stream",
     "text": [
      "4\n",
      "4\n",
      "4\n",
      "4\n",
      "4\n",
      "4\n",
      "4\n",
      "4\n",
      "2\n"
     ]
    }
   ],
   "source": [
    "for node, degree in G.degree():\n",
    "    print(degree)"
   ]
  },
  {
   "cell_type": "code",
   "execution_count": 49,
   "metadata": {},
   "outputs": [
    {
     "data": {
      "text/plain": [
       "17"
      ]
     },
     "execution_count": 49,
     "metadata": {},
     "output_type": "execute_result"
    }
   ],
   "source": [
    "len(G.edges())"
   ]
  },
  {
   "cell_type": "code",
   "execution_count": 51,
   "metadata": {},
   "outputs": [],
   "source": [
    "hehe = nx.eulerian_path(G)"
   ]
  },
  {
   "cell_type": "code",
   "execution_count": 112,
   "metadata": {},
   "outputs": [],
   "source": [
    "# Undirected = MultiGraph\n",
    "def solveNx(g):\n",
    "    # Store nodes having incidence degree that is odd\n",
    "    nodesDegOdd = []\n",
    "    for node, degree in g.degree():\n",
    "        if degree % 2 == 1:\n",
    "            nodesDegOdd.append(node)\n",
    "    \n",
    "    # Find shortest path between each nodes\n",
    "    \n",
    "    shortPathList = []\n",
    "    \n",
    "    for i in range(len(nodesDegOdd)):\n",
    "        u = nodesDegOdd[i]\n",
    "        for v in nodesDegOdd[i:]:\n",
    "            elm = (nx.shortest_path(g, u, v, weight='weight'), -nx.shortest_path_length(g,u,v,weight='weight'))\n",
    "            shortPathList.append(elm)\n",
    "            \n",
    "    \n",
    "    # Make a graph of the odd nodes that links the nodes  by their shortest path\n",
    "    #   each edge will have the shortest path as weight\n",
    "    \n",
    "    nG = nx.Graph()\n",
    "\n",
    "    edgeToPath = {}\n",
    "\n",
    "    for path in shortPathList:\n",
    "        edge = (path[0][0], path[0][-1])\n",
    "        otherEdge = (path[0][-1], path[0][0])\n",
    "        edgeToPath[edge] = path[0]\n",
    "        edgeToPath[otherEdge] = path[0]\n",
    "        nG.add_edge(edge[0], edge[1], weight=path[1])\n",
    "    \n",
    "    # Do the MINIMAL matching weighted matching\n",
    "    \n",
    "    matching = nx.max_weight_matching(nG, True, weight='weight')\n",
    "    \n",
    "    # We have all the edges that represent the minimum paths\n",
    "    \n",
    "    for edge in matching:\n",
    "        path = edgeToPath[edge]\n",
    "        for i in range(len(path) - 1):\n",
    "            src = path[i]\n",
    "            dst = path[i + 1]\n",
    "            weight = g.edges[src, dst, 0]['weight']\n",
    "            g.add_edge(src, dst, weight=weight)\n",
    "    \n",
    "    # Find all paths using edges to add to the original graph for it to be an eulerian cycle\n",
    "    \n",
    "    it = nx.eulerian_circuit(g)\n",
    "    edgeList = []\n",
    "    for edge in it:\n",
    "        edgeList.append(edge)\n",
    "    return edgeList"
   ]
  },
  {
   "cell_type": "code",
   "execution_count": 14,
   "metadata": {
    "tags": []
   },
   "outputs": [
    {
     "output_type": "stream",
     "name": "stdout",
     "text": "[(1, 2), (2, 2), (3, 2), (4, 3), (5, 3)]\n[(1, 3), (2, 3), (3, 3), (4, 1), (5, 2)]\n"
    },
    {
     "output_type": "display_data",
     "data": {
      "text/plain": "<Figure size 432x288 with 1 Axes>",
      "image/svg+xml": "<?xml version=\"1.0\" encoding=\"utf-8\" standalone=\"no\"?>\n<!DOCTYPE svg PUBLIC \"-//W3C//DTD SVG 1.1//EN\"\n  \"http://www.w3.org/Graphics/SVG/1.1/DTD/svg11.dtd\">\n<!-- Created with matplotlib (https://matplotlib.org/) -->\n<svg height=\"231.84pt\" version=\"1.1\" viewBox=\"0 0 349.2 231.84\" width=\"349.2pt\" xmlns=\"http://www.w3.org/2000/svg\" xmlns:xlink=\"http://www.w3.org/1999/xlink\">\n <defs>\n  <style type=\"text/css\">\n*{stroke-linecap:butt;stroke-linejoin:round;}\n  </style>\n </defs>\n <g id=\"figure_1\">\n  <g id=\"patch_1\">\n   <path d=\"M 0 231.84 \nL 349.2 231.84 \nL 349.2 0 \nL 0 0 \nz\n\" style=\"fill:none;\"/>\n  </g>\n  <g id=\"axes_1\">\n   <g id=\"patch_2\">\n    <path d=\"M 7.2 224.64 \nL 342 224.64 \nL 342 7.2 \nL 7.2 7.2 \nz\n\" style=\"fill:#ffffff;\"/>\n   </g>\n   <g id=\"patch_3\">\n    <path clip-path=\"url(#pc5196854fe)\" d=\"M 312.947107 129.025677 \nQ 205.013888 165.994962 98.138377 202.60196 \n\" style=\"fill:none;stroke:#000000;stroke-linecap:round;\"/>\n    <path clip-path=\"url(#pc5196854fe)\" d=\"M 102.57063 203.197892 \nL 98.138377 202.60196 \nL 101.274475 199.413717 \nL 102.57063 203.197892 \nz\n\" style=\"stroke:#000000;stroke-linecap:round;\"/>\n   </g>\n   <g id=\"patch_4\">\n    <path clip-path=\"url(#pc5196854fe)\" d=\"M 312.947107 129.025677 \nQ 243.816436 97.303663 175.701922 66.047934 \n\" style=\"fill:none;stroke:#000000;stroke-linecap:round;\"/>\n    <path clip-path=\"url(#pc5196854fe)\" d=\"M 178.503326 69.533925 \nL 175.701922 66.047934 \nL 180.171558 65.898406 \nL 178.503326 69.533925 \nz\n\" style=\"stroke:#000000;stroke-linecap:round;\"/>\n   </g>\n   <g id=\"patch_5\">\n    <path clip-path=\"url(#pc5196854fe)\" d=\"M 88.885545 205.77124 \nQ 196.818765 168.801955 303.694276 132.194957 \n\" style=\"fill:none;stroke:#000000;stroke-linecap:round;\"/>\n    <path clip-path=\"url(#pc5196854fe)\" d=\"M 299.262023 131.599025 \nL 303.694276 132.194957 \nL 300.558178 135.3832 \nL 299.262023 131.599025 \nz\n\" style=\"stroke:#000000;stroke-linecap:round;\"/>\n   </g>\n   <g id=\"patch_6\">\n    <path clip-path=\"url(#pc5196854fe)\" d=\"M 88.885545 205.77124 \nQ 67.001961 158.636179 45.589184 112.51519 \n\" style=\"fill:none;stroke:#000000;stroke-linecap:round;\"/>\n    <path clip-path=\"url(#pc5196854fe)\" d=\"M 45.459569 116.985448 \nL 45.589184 112.51519 \nL 49.087621 115.301037 \nL 45.459569 116.985448 \nz\n\" style=\"stroke:#000000;stroke-linecap:round;\"/>\n   </g>\n   <g id=\"patch_7\">\n    <path clip-path=\"url(#pc5196854fe)\" d=\"M 166.814549 61.969782 \nQ 235.945221 93.691796 304.059734 124.947525 \n\" style=\"fill:none;stroke:#000000;stroke-linecap:round;\"/>\n    <path clip-path=\"url(#pc5196854fe)\" d=\"M 301.258331 121.461533 \nL 304.059734 124.947525 \nL 299.590099 125.097053 \nL 301.258331 121.461533 \nz\n\" style=\"stroke:#000000;stroke-linecap:round;\"/>\n   </g>\n   <g id=\"patch_8\">\n    <path clip-path=\"url(#pc5196854fe)\" d=\"M 166.814549 61.969782 \nQ 108.252703 81.440335 50.75179 100.558151 \n\" style=\"fill:none;stroke:#000000;stroke-linecap:round;\"/>\n    <path clip-path=\"url(#pc5196854fe)\" d=\"M 55.17849 101.194014 \nL 50.75179 100.558151 \nL 53.9165 97.398308 \nL 55.17849 101.194014 \nz\n\" style=\"stroke:#000000;stroke-linecap:round;\"/>\n   </g>\n   <g id=\"patch_9\">\n    <path clip-path=\"url(#pc5196854fe)\" d=\"M 36.252893 26.06876 \nQ 170.540529 76.036704 303.780321 125.614749 \n\" style=\"fill:none;stroke:#000000;stroke-linecap:round;\"/>\n    <path clip-path=\"url(#pc5196854fe)\" d=\"M 300.72891 122.345361 \nL 303.780321 125.614749 \nL 299.333965 126.094245 \nL 300.72891 122.345361 \nz\n\" style=\"stroke:#000000;stroke-linecap:round;\"/>\n   </g>\n   <g id=\"patch_10\">\n    <path clip-path=\"url(#pc5196854fe)\" d=\"M 36.252893 26.06876 \nQ 61.352105 111.764435 86.137061 196.38715 \n\" style=\"fill:none;stroke:#000000;stroke-linecap:round;\"/>\n    <path clip-path=\"url(#pc5196854fe)\" d=\"M 86.93211 191.986253 \nL 86.137061 196.38715 \nL 83.093373 193.110572 \nL 86.93211 191.986253 \nz\n\" style=\"stroke:#000000;stroke-linecap:round;\"/>\n   </g>\n   <g id=\"patch_11\">\n    <path clip-path=\"url(#pc5196854fe)\" d=\"M 36.252893 26.06876 \nQ 97.360035 42.871617 157.389156 59.378046 \n\" style=\"fill:none;stroke:#000000;stroke-linecap:round;\"/>\n    <path clip-path=\"url(#pc5196854fe)\" d=\"M 154.062574 56.389091 \nL 157.389156 59.378046 \nL 153.002042 60.245939 \nL 154.062574 56.389091 \nz\n\" style=\"stroke:#000000;stroke-linecap:round;\"/>\n   </g>\n   <g id=\"patch_12\">\n    <path clip-path=\"url(#pc5196854fe)\" d=\"M 41.47051 103.643977 \nQ 63.354094 150.779037 84.766872 196.900026 \n\" style=\"fill:none;stroke:#000000;stroke-linecap:round;\"/>\n    <path clip-path=\"url(#pc5196854fe)\" d=\"M 84.896487 192.429769 \nL 84.766872 196.900026 \nL 81.268435 194.114179 \nL 84.896487 192.429769 \nz\n\" style=\"stroke:#000000;stroke-linecap:round;\"/>\n   </g>\n   <g id=\"patch_13\">\n    <path clip-path=\"url(#pc5196854fe)\" d=\"M 41.47051 103.643977 \nQ 100.032356 84.173424 157.53327 65.055607 \n\" style=\"fill:none;stroke:#000000;stroke-linecap:round;\"/>\n    <path clip-path=\"url(#pc5196854fe)\" d=\"M 153.106569 64.419745 \nL 157.53327 65.055607 \nL 154.368559 68.21545 \nL 153.106569 64.419745 \nz\n\" style=\"stroke:#000000;stroke-linecap:round;\"/>\n   </g>\n   <g id=\"patch_14\">\n    <path clip-path=\"url(#pc5196854fe)\" d=\"M 41.47051 103.643977 \nQ 39.152294 69.176888 36.909107 35.825312 \n\" style=\"fill:none;stroke:#000000;stroke-linecap:round;\"/>\n    <path clip-path=\"url(#pc5196854fe)\" d=\"M 35.182044 39.95051 \nL 36.909107 35.825312 \nL 39.173027 39.682081 \nL 35.182044 39.95051 \nz\n\" style=\"stroke:#000000;stroke-linecap:round;\"/>\n   </g>\n   <g id=\"text_1\">\n    <g id=\"patch_15\">\n     <path clip-path=\"url(#pc5196854fe)\" d=\"M 197.437284 176.876252 \nL 209.475691 172.752857 \nQ 212.313822 171.78074 211.341706 168.942609 \nL 208.205617 159.786679 \nQ 207.2335 156.948548 204.395369 157.920665 \nL 192.356962 162.04406 \nQ 189.518831 163.016176 190.490947 165.854308 \nL 193.627036 175.010237 \nQ 194.599153 177.848369 197.437284 176.876252 \nz\n\" style=\"fill:#ffffff;stroke:#ffffff;stroke-linejoin:miter;\"/>\n    </g>\n    <g clip-path=\"url(#pc5196854fe)\">\n     <!-- 10 -->\n     <defs>\n      <path d=\"M 12.40625 8.296875 \nL 28.515625 8.296875 \nL 28.515625 63.921875 \nL 10.984375 60.40625 \nL 10.984375 69.390625 \nL 28.421875 72.90625 \nL 38.28125 72.90625 \nL 38.28125 8.296875 \nL 54.390625 8.296875 \nL 54.390625 0 \nL 12.40625 0 \nz\n\" id=\"DejaVuSans-49\"/>\n      <path d=\"M 31.78125 66.40625 \nQ 24.171875 66.40625 20.328125 58.90625 \nQ 16.5 51.421875 16.5 36.375 \nQ 16.5 21.390625 20.328125 13.890625 \nQ 24.171875 6.390625 31.78125 6.390625 \nQ 39.453125 6.390625 43.28125 13.890625 \nQ 47.125 21.390625 47.125 36.375 \nQ 47.125 51.421875 43.28125 58.90625 \nQ 39.453125 66.40625 31.78125 66.40625 \nz\nM 31.78125 74.21875 \nQ 44.046875 74.21875 50.515625 64.515625 \nQ 56.984375 54.828125 56.984375 36.375 \nQ 56.984375 17.96875 50.515625 8.265625 \nQ 44.046875 -1.421875 31.78125 -1.421875 \nQ 19.53125 -1.421875 13.0625 8.265625 \nQ 6.59375 17.96875 6.59375 36.375 \nQ 6.59375 54.828125 13.0625 64.515625 \nQ 19.53125 74.21875 31.78125 74.21875 \nz\n\" id=\"DejaVuSans-48\"/>\n     </defs>\n     <g transform=\"translate(195.791268 172.070645)rotate(-18.907357)scale(0.1 -0.1)\">\n      <use xlink:href=\"#DejaVuSans-49\"/>\n      <use x=\"63.623047\" xlink:href=\"#DejaVuSans-48\"/>\n     </g>\n    </g>\n   </g>\n   <g id=\"text_2\">\n    <g id=\"patch_16\">\n     <path clip-path=\"url(#pc5196854fe)\" d=\"M 230.828736 99.968964 \nL 242.394233 105.276027 \nQ 245.120872 106.527201 246.372046 103.800561 \nL 250.408386 95.004308 \nQ 251.65956 92.277669 248.93292 91.026495 \nL 237.367424 85.719432 \nQ 234.640784 84.468258 233.38961 87.194897 \nL 229.353271 95.99115 \nQ 228.102097 98.71779 230.828736 99.968964 \nz\n\" style=\"fill:#ffffff;stroke:#ffffff;stroke-linejoin:miter;\"/>\n    </g>\n    <g clip-path=\"url(#pc5196854fe)\">\n     <!-- 13 -->\n     <defs>\n      <path d=\"M 40.578125 39.3125 \nQ 47.65625 37.796875 51.625 33 \nQ 55.609375 28.21875 55.609375 21.1875 \nQ 55.609375 10.40625 48.1875 4.484375 \nQ 40.765625 -1.421875 27.09375 -1.421875 \nQ 22.515625 -1.421875 17.65625 -0.515625 \nQ 12.796875 0.390625 7.625 2.203125 \nL 7.625 11.71875 \nQ 11.71875 9.328125 16.59375 8.109375 \nQ 21.484375 6.890625 26.8125 6.890625 \nQ 36.078125 6.890625 40.9375 10.546875 \nQ 45.796875 14.203125 45.796875 21.1875 \nQ 45.796875 27.640625 41.28125 31.265625 \nQ 36.765625 34.90625 28.71875 34.90625 \nL 20.21875 34.90625 \nL 20.21875 43.015625 \nL 29.109375 43.015625 \nQ 36.375 43.015625 40.234375 45.921875 \nQ 44.09375 48.828125 44.09375 54.296875 \nQ 44.09375 59.90625 40.109375 62.90625 \nQ 36.140625 65.921875 28.71875 65.921875 \nQ 24.65625 65.921875 20.015625 65.03125 \nQ 15.375 64.15625 9.8125 62.3125 \nL 9.8125 71.09375 \nQ 15.4375 72.65625 20.34375 73.4375 \nQ 25.25 74.21875 29.59375 74.21875 \nQ 40.828125 74.21875 47.359375 69.109375 \nQ 53.90625 64.015625 53.90625 55.328125 \nQ 53.90625 49.265625 50.4375 45.09375 \nQ 46.96875 40.921875 40.578125 39.3125 \nz\n\" id=\"DejaVuSans-51\"/>\n     </defs>\n     <g transform=\"translate(232.947261 95.352138)rotate(-335.351014)scale(0.1 -0.1)\">\n      <use xlink:href=\"#DejaVuSans-49\"/>\n      <use x=\"63.623047\" xlink:href=\"#DejaVuSans-51\"/>\n     </g>\n    </g>\n   </g>\n   <g id=\"text_3\">\n    <g id=\"patch_17\">\n     <path clip-path=\"url(#pc5196854fe)\" d=\"M 168.884699 83.784733 \nL 174.847767 86.003569 \nQ 177.659429 87.049779 178.705639 84.238116 \nL 182.080754 75.167576 \nQ 183.126963 72.355913 180.315301 71.309704 \nL 174.352233 69.090868 \nQ 171.540571 68.044659 170.494361 70.856321 \nL 167.119246 79.926861 \nQ 166.073037 82.738524 168.884699 83.784733 \nz\n\" style=\"fill:#ffffff;stroke:#ffffff;stroke-linejoin:miter;\"/>\n    </g>\n    <g clip-path=\"url(#pc5196854fe)\">\n     <!-- 5 -->\n     <defs>\n      <path d=\"M 10.796875 72.90625 \nL 49.515625 72.90625 \nL 49.515625 64.59375 \nL 19.828125 64.59375 \nL 19.828125 46.734375 \nQ 21.96875 47.46875 24.109375 47.828125 \nQ 26.265625 48.1875 28.421875 48.1875 \nQ 40.625 48.1875 47.75 41.5 \nQ 54.890625 34.8125 54.890625 23.390625 \nQ 54.890625 11.625 47.5625 5.09375 \nQ 40.234375 -1.421875 26.90625 -1.421875 \nQ 22.3125 -1.421875 17.546875 -0.640625 \nQ 12.796875 0.140625 7.71875 1.703125 \nL 7.71875 11.625 \nQ 12.109375 9.234375 16.796875 8.0625 \nQ 21.484375 6.890625 26.703125 6.890625 \nQ 35.15625 6.890625 40.078125 11.328125 \nQ 45.015625 15.765625 45.015625 23.390625 \nQ 45.015625 31 40.078125 35.4375 \nQ 35.15625 39.890625 26.703125 39.890625 \nQ 22.75 39.890625 18.8125 39.015625 \nQ 14.890625 38.140625 10.796875 36.28125 \nz\n\" id=\"DejaVuSans-53\"/>\n     </defs>\n     <g transform=\"translate(170.656172 79.023944)rotate(-339.589948)scale(0.1 -0.1)\">\n      <use xlink:href=\"#DejaVuSans-53\"/>\n     </g>\n    </g>\n   </g>\n   <g id=\"text_4\">\n    <g id=\"patch_18\">\n     <path clip-path=\"url(#pc5196854fe)\" d=\"M 55.388631 152.237787 \nL 60.747161 163.779528 \nQ 62.010469 166.500567 64.731508 165.237259 \nL 73.509694 161.161776 \nQ 76.230733 159.898468 74.967425 157.177429 \nL 69.608894 145.635688 \nQ 68.345587 142.914649 65.624548 144.177957 \nL 56.846362 148.253441 \nQ 54.125323 149.516748 55.388631 152.237787 \nz\n\" style=\"fill:#ffffff;stroke:#ffffff;stroke-linejoin:miter;\"/>\n    </g>\n    <g clip-path=\"url(#pc5196854fe)\">\n     <!-- 42 -->\n     <defs>\n      <path d=\"M 37.796875 64.3125 \nL 12.890625 25.390625 \nL 37.796875 25.390625 \nz\nM 35.203125 72.90625 \nL 47.609375 72.90625 \nL 47.609375 25.390625 \nL 58.015625 25.390625 \nL 58.015625 17.1875 \nL 47.609375 17.1875 \nL 47.609375 0 \nL 37.796875 0 \nL 37.796875 17.1875 \nL 4.890625 17.1875 \nL 4.890625 26.703125 \nz\n\" id=\"DejaVuSans-52\"/>\n      <path d=\"M 19.1875 8.296875 \nL 53.609375 8.296875 \nL 53.609375 0 \nL 7.328125 0 \nL 7.328125 8.296875 \nQ 12.9375 14.109375 22.625 23.890625 \nQ 32.328125 33.6875 34.8125 36.53125 \nQ 39.546875 41.84375 41.421875 45.53125 \nQ 43.3125 49.21875 43.3125 52.78125 \nQ 43.3125 58.59375 39.234375 62.25 \nQ 35.15625 65.921875 28.609375 65.921875 \nQ 23.96875 65.921875 18.8125 64.3125 \nQ 13.671875 62.703125 7.8125 59.421875 \nL 7.8125 69.390625 \nQ 13.765625 71.78125 18.9375 73 \nQ 24.125 74.21875 28.421875 74.21875 \nQ 39.75 74.21875 46.484375 68.546875 \nQ 53.21875 62.890625 53.21875 53.421875 \nQ 53.21875 48.921875 51.53125 44.890625 \nQ 49.859375 40.875 45.40625 35.40625 \nQ 44.1875 33.984375 37.640625 27.21875 \nQ 31.109375 20.453125 19.1875 8.296875 \nz\n\" id=\"DejaVuSans-50\"/>\n     </defs>\n     <g transform=\"translate(59.995974 150.098718)rotate(-294.904218)scale(0.1 -0.1)\">\n      <use xlink:href=\"#DejaVuSans-52\"/>\n      <use x=\"63.623047\" xlink:href=\"#DejaVuSans-50\"/>\n     </g>\n    </g>\n   </g>\n   <g id=\"text_5\">\n    <g id=\"patch_19\">\n     <path clip-path=\"url(#pc5196854fe)\" d=\"M 53.257823 112.01741 \nL 56.834563 124.229394 \nQ 57.677803 127.108447 60.556856 126.265208 \nL 69.844801 123.544883 \nQ 72.723855 122.701643 71.880615 119.82259 \nL 68.303875 107.610606 \nQ 67.460635 104.731553 64.581582 105.574792 \nL 55.293637 108.295117 \nQ 52.414583 109.138357 53.257823 112.01741 \nz\n\" style=\"fill:#ffffff;stroke:#ffffff;stroke-linejoin:miter;\"/>\n    </g>\n    <g clip-path=\"url(#pc5196854fe)\">\n     <!-- 22 -->\n     <g transform=\"translate(58.13272 110.589613)rotate(-286.324661)scale(0.1 -0.1)\">\n      <use xlink:href=\"#DejaVuSans-50\"/>\n      <use x=\"63.623047\" xlink:href=\"#DejaVuSans-50\"/>\n     </g>\n    </g>\n   </g>\n   <g id=\"text_6\">\n    <g id=\"patch_20\">\n     <path clip-path=\"url(#pc5196854fe)\" d=\"M 100.578191 92.252926 \nL 112.653279 88.238219 \nQ 115.500058 87.291726 114.553565 84.444947 \nL 111.50014 75.261119 \nQ 110.553647 72.41434 107.706868 73.360833 \nL 95.63178 77.37554 \nQ 92.785001 78.322032 93.731494 81.168811 \nL 96.784919 90.35264 \nQ 97.731412 93.199419 100.578191 92.252926 \nz\n\" style=\"fill:#ffffff;stroke:#ffffff;stroke-linejoin:miter;\"/>\n    </g>\n    <g clip-path=\"url(#pc5196854fe)\">\n     <!-- 69 -->\n     <defs>\n      <path d=\"M 33.015625 40.375 \nQ 26.375 40.375 22.484375 35.828125 \nQ 18.609375 31.296875 18.609375 23.390625 \nQ 18.609375 15.53125 22.484375 10.953125 \nQ 26.375 6.390625 33.015625 6.390625 \nQ 39.65625 6.390625 43.53125 10.953125 \nQ 47.40625 15.53125 47.40625 23.390625 \nQ 47.40625 31.296875 43.53125 35.828125 \nQ 39.65625 40.375 33.015625 40.375 \nz\nM 52.59375 71.296875 \nL 52.59375 62.3125 \nQ 48.875 64.0625 45.09375 64.984375 \nQ 41.3125 65.921875 37.59375 65.921875 \nQ 27.828125 65.921875 22.671875 59.328125 \nQ 17.53125 52.734375 16.796875 39.40625 \nQ 19.671875 43.65625 24.015625 45.921875 \nQ 28.375 48.1875 33.59375 48.1875 \nQ 44.578125 48.1875 50.953125 41.515625 \nQ 57.328125 34.859375 57.328125 23.390625 \nQ 57.328125 12.15625 50.6875 5.359375 \nQ 44.046875 -1.421875 33.015625 -1.421875 \nQ 20.359375 -1.421875 13.671875 8.265625 \nQ 6.984375 17.96875 6.984375 36.375 \nQ 6.984375 53.65625 15.1875 63.9375 \nQ 23.390625 74.21875 37.203125 74.21875 \nQ 40.921875 74.21875 44.703125 73.484375 \nQ 48.484375 72.75 52.59375 71.296875 \nz\n\" id=\"DejaVuSans-54\"/>\n      <path d=\"M 10.984375 1.515625 \nL 10.984375 10.5 \nQ 14.703125 8.734375 18.5 7.8125 \nQ 22.3125 6.890625 25.984375 6.890625 \nQ 35.75 6.890625 40.890625 13.453125 \nQ 46.046875 20.015625 46.78125 33.40625 \nQ 43.953125 29.203125 39.59375 26.953125 \nQ 35.25 24.703125 29.984375 24.703125 \nQ 19.046875 24.703125 12.671875 31.3125 \nQ 6.296875 37.9375 6.296875 49.421875 \nQ 6.296875 60.640625 12.9375 67.421875 \nQ 19.578125 74.21875 30.609375 74.21875 \nQ 43.265625 74.21875 49.921875 64.515625 \nQ 56.59375 54.828125 56.59375 36.375 \nQ 56.59375 19.140625 48.40625 8.859375 \nQ 40.234375 -1.421875 26.421875 -1.421875 \nQ 22.703125 -1.421875 18.890625 -0.6875 \nQ 15.09375 0.046875 10.984375 1.515625 \nz\nM 30.609375 32.421875 \nQ 37.25 32.421875 41.125 36.953125 \nQ 45.015625 41.5 45.015625 49.421875 \nQ 45.015625 57.28125 41.125 61.84375 \nQ 37.25 66.40625 30.609375 66.40625 \nQ 23.96875 66.40625 20.09375 61.84375 \nQ 16.21875 57.28125 16.21875 49.421875 \nQ 16.21875 41.5 20.09375 36.953125 \nQ 23.96875 32.421875 30.609375 32.421875 \nz\n\" id=\"DejaVuSans-57\"/>\n     </defs>\n     <g transform=\"translate(98.975562 87.432676)rotate(-18.390856)scale(0.1 -0.1)\">\n      <use xlink:href=\"#DejaVuSans-54\"/>\n      <use x=\"63.623047\" xlink:href=\"#DejaVuSans-57\"/>\n     </g>\n    </g>\n   </g>\n   <g id=\"text_7\">\n    <g id=\"patch_21\">\n     <path clip-path=\"url(#pc5196854fe)\" d=\"M 93.320529 49.89088 \nL 105.590125 53.264696 \nQ 108.482761 54.060095 109.27816 51.167459 \nL 111.844149 41.835696 \nQ 112.639548 38.943061 109.746912 38.147662 \nL 97.477316 34.773846 \nQ 94.58468 33.978447 93.789282 36.871083 \nL 91.223292 46.202846 \nQ 90.427894 49.095481 93.320529 49.89088 \nz\n\" style=\"fill:#ffffff;stroke:#ffffff;stroke-linejoin:miter;\"/>\n    </g>\n    <g clip-path=\"url(#pc5196854fe)\">\n     <!-- 44 -->\n     <g transform=\"translate(94.667322 44.992985)rotate(-344.62515)scale(0.1 -0.1)\">\n      <use xlink:href=\"#DejaVuSans-52\"/>\n      <use x=\"63.623047\" xlink:href=\"#DejaVuSans-52\"/>\n     </g>\n    </g>\n   </g>\n   <g id=\"text_8\">\n    <g id=\"patch_22\">\n     <path clip-path=\"url(#pc5196854fe)\" d=\"M 30.61334 59.034269 \nL 31.46728 71.730584 \nQ 31.668601 74.723821 34.661839 74.522499 \nL 44.318147 73.873027 \nQ 47.311384 73.671706 47.110063 70.678468 \nL 46.256123 57.982154 \nQ 46.054802 54.988916 43.061564 55.190238 \nL 33.405256 55.83971 \nQ 30.412019 56.041031 30.61334 59.034269 \nz\n\" style=\"fill:#ffffff;stroke:#ffffff;stroke-linejoin:miter;\"/>\n    </g>\n    <g clip-path=\"url(#pc5196854fe)\">\n     <!-- 18 -->\n     <defs>\n      <path d=\"M 31.78125 34.625 \nQ 24.75 34.625 20.71875 30.859375 \nQ 16.703125 27.09375 16.703125 20.515625 \nQ 16.703125 13.921875 20.71875 10.15625 \nQ 24.75 6.390625 31.78125 6.390625 \nQ 38.8125 6.390625 42.859375 10.171875 \nQ 46.921875 13.96875 46.921875 20.515625 \nQ 46.921875 27.09375 42.890625 30.859375 \nQ 38.875 34.625 31.78125 34.625 \nz\nM 21.921875 38.8125 \nQ 15.578125 40.375 12.03125 44.71875 \nQ 8.5 49.078125 8.5 55.328125 \nQ 8.5 64.0625 14.71875 69.140625 \nQ 20.953125 74.21875 31.78125 74.21875 \nQ 42.671875 74.21875 48.875 69.140625 \nQ 55.078125 64.0625 55.078125 55.328125 \nQ 55.078125 49.078125 51.53125 44.71875 \nQ 48 40.375 41.703125 38.8125 \nQ 48.828125 37.15625 52.796875 32.3125 \nQ 56.78125 27.484375 56.78125 20.515625 \nQ 56.78125 9.90625 50.3125 4.234375 \nQ 43.84375 -1.421875 31.78125 -1.421875 \nQ 19.734375 -1.421875 13.25 4.234375 \nQ 6.78125 9.90625 6.78125 20.515625 \nQ 6.78125 27.484375 10.78125 32.3125 \nQ 14.796875 37.15625 21.921875 38.8125 \nz\nM 18.3125 54.390625 \nQ 18.3125 48.734375 21.84375 45.5625 \nQ 25.390625 42.390625 31.78125 42.390625 \nQ 38.140625 42.390625 41.71875 45.5625 \nQ 45.3125 48.734375 45.3125 54.390625 \nQ 45.3125 60.0625 41.71875 63.234375 \nQ 38.140625 66.40625 31.78125 66.40625 \nQ 25.390625 66.40625 21.84375 63.234375 \nQ 18.3125 60.0625 18.3125 54.390625 \nz\n\" id=\"DejaVuSans-56\"/>\n     </defs>\n     <g transform=\"translate(35.681577 58.693385)rotate(-273.847851)scale(0.1 -0.1)\">\n      <use xlink:href=\"#DejaVuSans-49\"/>\n      <use x=\"63.623047\" xlink:href=\"#DejaVuSans-56\"/>\n     </g>\n    </g>\n   </g>\n   <g id=\"matplotlib.axis_1\">\n    <g id=\"xtick_1\"/>\n    <g id=\"xtick_2\"/>\n    <g id=\"xtick_3\"/>\n    <g id=\"xtick_4\"/>\n    <g id=\"xtick_5\"/>\n    <g id=\"xtick_6\"/>\n    <g id=\"xtick_7\"/>\n   </g>\n   <g id=\"matplotlib.axis_2\">\n    <g id=\"ytick_1\"/>\n    <g id=\"ytick_2\"/>\n    <g id=\"ytick_3\"/>\n    <g id=\"ytick_4\"/>\n    <g id=\"ytick_5\"/>\n    <g id=\"ytick_6\"/>\n    <g id=\"ytick_7\"/>\n    <g id=\"ytick_8\"/>\n   </g>\n   <g id=\"PathCollection_1\">\n    <defs>\n     <path d=\"M 0 8.660254 \nC 2.296726 8.660254 4.499694 7.747755 6.123724 6.123724 \nC 7.747755 4.499694 8.660254 2.296726 8.660254 0 \nC 8.660254 -2.296726 7.747755 -4.499694 6.123724 -6.123724 \nC 4.499694 -7.747755 2.296726 -8.660254 0 -8.660254 \nC -2.296726 -8.660254 -4.499694 -7.747755 -6.123724 -6.123724 \nC -7.747755 -4.499694 -8.660254 -2.296726 -8.660254 0 \nC -8.660254 2.296726 -7.747755 4.499694 -6.123724 6.123724 \nC -4.499694 7.747755 -2.296726 8.660254 0 8.660254 \nz\n\" id=\"m9268cbad7a\" style=\"stroke:#1f78b4;\"/>\n    </defs>\n    <g clip-path=\"url(#pc5196854fe)\">\n     <use style=\"fill:#1f78b4;stroke:#1f78b4;\" x=\"312.947107\" xlink:href=\"#m9268cbad7a\" y=\"129.025677\"/>\n     <use style=\"fill:#1f78b4;stroke:#1f78b4;\" x=\"88.885545\" xlink:href=\"#m9268cbad7a\" y=\"205.77124\"/>\n     <use style=\"fill:#1f78b4;stroke:#1f78b4;\" x=\"166.814549\" xlink:href=\"#m9268cbad7a\" y=\"61.969782\"/>\n     <use style=\"fill:#1f78b4;stroke:#1f78b4;\" x=\"36.252893\" xlink:href=\"#m9268cbad7a\" y=\"26.06876\"/>\n     <use style=\"fill:#1f78b4;stroke:#1f78b4;\" x=\"41.47051\" xlink:href=\"#m9268cbad7a\" y=\"103.643977\"/>\n    </g>\n   </g>\n   <g id=\"patch_23\">\n    <path d=\"M 7.2 224.64 \nL 7.2 7.2 \n\" style=\"fill:none;stroke:#000000;stroke-linecap:square;stroke-linejoin:miter;stroke-width:0.8;\"/>\n   </g>\n   <g id=\"patch_24\">\n    <path d=\"M 342 224.64 \nL 342 7.2 \n\" style=\"fill:none;stroke:#000000;stroke-linecap:square;stroke-linejoin:miter;stroke-width:0.8;\"/>\n   </g>\n   <g id=\"patch_25\">\n    <path d=\"M 7.2 224.64 \nL 342 224.64 \n\" style=\"fill:none;stroke:#000000;stroke-linecap:square;stroke-linejoin:miter;stroke-width:0.8;\"/>\n   </g>\n   <g id=\"patch_26\">\n    <path d=\"M 7.2 7.2 \nL 342 7.2 \n\" style=\"fill:none;stroke:#000000;stroke-linecap:square;stroke-linejoin:miter;stroke-width:0.8;\"/>\n   </g>\n   <g id=\"text_9\">\n    <g clip-path=\"url(#pc5196854fe)\">\n     <!-- 1 -->\n     <g transform=\"translate(309.129607 132.336927)scale(0.12 -0.12)\">\n      <use xlink:href=\"#DejaVuSans-49\"/>\n     </g>\n    </g>\n   </g>\n   <g id=\"text_10\">\n    <g clip-path=\"url(#pc5196854fe)\">\n     <!-- 2 -->\n     <g transform=\"translate(85.068045 209.08249)scale(0.12 -0.12)\">\n      <use xlink:href=\"#DejaVuSans-50\"/>\n     </g>\n    </g>\n   </g>\n   <g id=\"text_11\">\n    <g clip-path=\"url(#pc5196854fe)\">\n     <!-- 3 -->\n     <g transform=\"translate(162.997049 65.281032)scale(0.12 -0.12)\">\n      <use xlink:href=\"#DejaVuSans-51\"/>\n     </g>\n    </g>\n   </g>\n   <g id=\"text_12\">\n    <g clip-path=\"url(#pc5196854fe)\">\n     <!-- 4 -->\n     <g transform=\"translate(32.435393 29.38001)scale(0.12 -0.12)\">\n      <use xlink:href=\"#DejaVuSans-52\"/>\n     </g>\n    </g>\n   </g>\n   <g id=\"text_13\">\n    <g clip-path=\"url(#pc5196854fe)\">\n     <!-- 5 -->\n     <g transform=\"translate(37.65301 106.955227)scale(0.12 -0.12)\">\n      <use xlink:href=\"#DejaVuSans-53\"/>\n     </g>\n    </g>\n   </g>\n  </g>\n </g>\n <defs>\n  <clipPath id=\"pc5196854fe\">\n   <rect height=\"217.44\" width=\"334.8\" x=\"7.2\" y=\"7.2\"/>\n  </clipPath>\n </defs>\n</svg>\n",
      "image/png": "[encoded data removed]"
     },
     "metadata": {}
    }
   ],
   "source": [
    "import networkx as nx\n",
    "dirg = nx.MultiDiGraph()\n",
    "dirg.add_edge(1, 2, weight=10)\n",
    "dirg.add_edge(2,1, weight=12)\n",
    "dirg.add_edge(1,3, weight=13)\n",
    "dirg.add_edge(3, 1, weight=33)\n",
    "dirg.add_edge(4, 1, weight=5)\n",
    "dirg.add_edge(4, 2, weight=22)\n",
    "dirg.add_edge(4, 3, weight=44)\n",
    "dirg.add_edge(5, 2, weight=57)\n",
    "dirg.add_edge(2, 5, weight=42)\n",
    "dirg.add_edge(5, 3, weight=88)\n",
    "dirg.add_edge(3, 5, weight=69)\n",
    "dirg.add_edge(5, 4, weight=18)\n",
    "print_GRF(dirg)\n",
    "print(dirg.out_degree())\n",
    "print(dirg.in_degree())"
   ]
  },
  {
   "cell_type": "code",
   "execution_count": 61,
   "metadata": {},
   "outputs": [
    {
     "name": "stdout",
     "output_type": "stream",
     "text": [
      "[1, 2, 3]\n",
      "[4, 5]\n"
     ]
    }
   ],
   "source": [
    "# Store nodes having incidence degree that is odd\n",
    "g = dirg\n",
    "nodesHigherOut = []\n",
    "nodesHigherIn = []\n",
    "for node in g.nodes():\n",
    "    if (g.out_degree(node) > g.in_degree(node)):\n",
    "        nodesHigherOut.append(node)\n",
    "    elif (g.in_degree(node) > g.out_degree(node)):\n",
    "        nodesHigherIn.append(node)\n",
    "print(nodesHigherIn)\n",
    "print(nodesHigherOut)"
   ]
  },
  {
   "cell_type": "code",
   "execution_count": 119,
   "metadata": {},
   "outputs": [],
   "source": [
    "#Directed\n",
    "def solveNxDir(g):\n",
    "    while (not nx.is_eulerian(g)):\n",
    "       # Store nodes having incidence degree that is odd\n",
    "        nodesHigherOut = []\n",
    "        nodesHigherIn = []\n",
    "        for node in g.nodes():\n",
    "            if (g.out_degree(node) > g.in_degree(node)):\n",
    "                nodesHigherOut.append(node)\n",
    "            elif (g.in_degree(node) > g.out_degree(node)):\n",
    "                nodesHigherIn.append(node)\n",
    "\n",
    "        # Find shortest path between each nodes\n",
    "\n",
    "        shortPathList = []\n",
    "\n",
    "        for src in nodesHigherIn:\n",
    "            for dst in nodesHigherOut:\n",
    "                elm = (nx.shortest_path(g, src, dst, weight='weight'), -nx.shortest_path_length(g,src,dst,weight='weight'))\n",
    "                shortPathList.append(elm)\n",
    "\n",
    "\n",
    "        # Make a graph of the odd nodes that links the nodes  by their shortest path\n",
    "        #   each edge will have the shortest path as weight\n",
    "    \n",
    "        nG = nx.Graph()\n",
    "\n",
    "        edgeToPath = {}\n",
    "\n",
    "        for path in shortPathList:\n",
    "            edge = (path[0][0], path[0][-1])\n",
    "            edgeToPath[edge] = path[0]\n",
    "            nG.add_edge(edge[0], edge[1], weight=path[1])\n",
    "\n",
    "        # Do the MINIMAL matching weighted matching\n",
    "\n",
    "        matching = nx.max_weight_matching(nG, True, weight='weight')\n",
    "\n",
    "        # We have all the edges that represent the minimum paths\n",
    "\n",
    "        for edge in matching:\n",
    "            path = edgeToPath[edge]\n",
    "            for i in range(len(path) - 1):\n",
    "                src = path[i]\n",
    "                dst = path[i + 1]\n",
    "                weight = g.edges[src, dst, 0]['weight']\n",
    "                g.add_edge(src, dst, weight=weight)\n",
    "    \n",
    "    # Find all paths using edges to add to the original graph for it to be an eulerian cycle\n",
    "    \n",
    "    it = nx.eulerian_circuit(g)\n",
    "    edgeList = []\n",
    "    for edge in it:\n",
    "        edgeList.append(edge)\n",
    "    return edgeList"
   ]
  },
  {
   "cell_type": "code",
   "execution_count": 23,
   "metadata": {},
   "outputs": [],
   "source": [
    "def solve(is_oriented, num_vertices, edge_list):\n",
    "    g = nx.MultiGraph()\n",
    "    twoEdgeList = []\n",
    "    \n",
    "    for edge in edge_list:\n",
    "        g.add_edge(edge[0], edge[1], weight=edge[2])\n",
    "        twoEdgeList.append(edge[0], edge[1])\n",
    "        \n",
    "    if (not is_oriented):\n",
    "        path = solveNx(g)\n",
    "    else:\n",
    "        path = solveNxDir(g)\n",
    "    \n",
    "    for i in range(len(path)):\n",
    "        path[i] = twoEdgeList.index(path[i])\n",
    "        \n",
    "    return path"
   ]
  },
  {
   "cell_type": "code",
   "execution_count": 66,
   "metadata": {},
   "outputs": [
    {
     "data": {
      "text/plain": [
       "[(1, 4),\n",
       " (4, 5),\n",
       " (5, 9),\n",
       " (9, 8),\n",
       " (8, 7),\n",
       " (7, 8),\n",
       " (8, 6),\n",
       " (6, 7),\n",
       " (7, 5),\n",
       " (5, 3),\n",
       " (3, 6),\n",
       " (6, 2),\n",
       " (2, 3),\n",
       " (3, 4),\n",
       " (4, 1),\n",
       " (1, 2),\n",
       " (2, 1)]"
      ]
     },
     "execution_count": 66,
     "metadata": {},
     "output_type": "execute_result"
    }
   ],
   "source": [
    "solveNx(G)"
   ]
  },
  {
   "cell_type": "code",
   "execution_count": 123,
   "metadata": {
    "scrolled": true
   },
   "outputs": [
    {
     "data": {
      "text/plain": [
       "[(1, 2),\n",
       " (2, 5),\n",
       " (5, 3),\n",
       " (3, 5),\n",
       " (5, 4),\n",
       " (4, 3),\n",
       " (3, 5),\n",
       " (5, 2),\n",
       " (2, 5),\n",
       " (5, 4),\n",
       " (4, 2),\n",
       " (2, 5),\n",
       " (5, 4),\n",
       " (4, 1),\n",
       " (1, 3),\n",
       " (3, 1),\n",
       " (1, 2),\n",
       " (2, 1)]"
      ]
     },
     "execution_count": 123,
     "metadata": {},
     "output_type": "execute_result"
    }
   ],
   "source": [
    "solveNxDir(dirg)"
   ]
  },
  {
   "cell_type": "code",
   "execution_count": 37,
   "metadata": {},
   "outputs": [
    {
     "data": {
      "text/plain": [
       "MultiEdgeDataView([(1, 2), (1, 2), (1, 4), (1, 4), (2, 3), (2, 3), (2, 6), (2, 6), (4, 3), (4, 3), (4, 5), (4, 5), (3, 5), (3, 5), (3, 6), (3, 6), (5, 7), (5, 7), (5, 9), (5, 9), (6, 7), (6, 7), (6, 8), (6, 8), (7, 8), (7, 8), (8, 9), (8, 9)])"
      ]
     },
     "execution_count": 37,
     "metadata": {},
     "output_type": "execute_result"
    }
   ],
   "source": [
    "G.edges()"
   ]
  },
  {
   "cell_type": "code",
   "execution_count": 74,
   "metadata": {},
   "outputs": [],
   "source": [
    "F = nx.eulerize(G)"
   ]
  },
  {
   "cell_type": "code",
   "execution_count": 75,
   "metadata": {},
   "outputs": [
    {
     "data": {
      "text/plain": [
       "MultiEdgeDataView([(1, 2), (1, 2), (1, 4), (1, 4), (2, 3), (2, 6), (4, 3), (4, 5), (3, 5), (3, 6), (5, 7), (5, 9), (6, 7), (6, 8), (7, 8), (7, 8), (8, 9)])"
      ]
     },
     "execution_count": 75,
     "metadata": {},
     "output_type": "execute_result"
    }
   ],
   "source": [
    "F.edges()"
   ]
  },
  {
   "cell_type": "code",
   "execution_count": 18,
   "metadata": {},
   "outputs": [],
   "source": [
    "num_vertices = 5\n",
    "edge_list = []\n",
    "edge_list.append((1, 2, 10))\n",
    "edge_list.append((2, 1, 12))\n",
    "edge_list.append((1, 3, 13))\n",
    "edge_list.append((3, 1, 33))\n",
    "edge_list.append((4, 1, 5))\n",
    "edge_list.append((4, 2, 22))\n",
    "edge_list.append((4, 3, 44))\n",
    "edge_list.append((5, 2, 57))\n",
    "edge_list.append((2, 5, 42))\n",
    "edge_list.append((5, 3, 88))\n",
    "edge_list.append((3, 5, 69))\n",
    "edge_list.append((5, 4, 18))"
   ]
  },
  {
   "cell_type": "code",
   "execution_count": 27,
   "metadata": {},
   "outputs": [],
   "source": [
    "def degree(node, adjList):\n",
    "    deg_count = 0\n",
    "    for pair in adjList:\n",
    "        if node in pair[:2]:\n",
    "            deg_count += 1\n",
    "    return deg_count\n",
    "    \n",
    "def in_degree(node, adjList):\n",
    "    deg_count = 0\n",
    "    for pair in adjList:\n",
    "        if node == pair[1]:\n",
    "            deg_count += 1\n",
    "    return deg_count\n",
    "\n",
    "def out_degree(node, adjList):\n",
    "    deg_count = 0\n",
    "    for pair in adjList:\n",
    "        if node == pair[0]:\n",
    "            deg_count += 1\n",
    "    return deg_count\n",
    "    "
   ]
  },
  {
   "cell_type": "code",
   "execution_count": 28,
   "metadata": {
    "tags": []
   },
   "outputs": [
    {
     "output_type": "stream",
     "name": "stdout",
     "text": "degree: 5\nin_degree: 3\nout_degree: 2\ndegree: 5\nin_degree: 3\nout_degree: 2\ndegree: 5\nin_degree: 3\nout_degree: 2\ndegree: 4\nin_degree: 1\nout_degree: 3\ndegree: 5\nin_degree: 2\nout_degree: 3\n"
    }
   ],
   "source": [
    "for vert in range(1, num_vertices + 1):\n",
    "    print(\"degree:\", degree(vert, edge_list))\n",
    "    print(\"in_degree:\", in_degree(vert, edge_list))\n",
    "    print(\"out_degree:\", out_degree(vert, edge_list))"
   ]
  },
  {
   "cell_type": "code",
   "execution_count": 30,
   "metadata": {},
   "outputs": [
    {
     "output_type": "execute_result",
     "data": {
      "text/plain": "OutMultiDegreeView({1: 2, 2: 2, 3: 2, 4: 3, 5: 3})"
     },
     "metadata": {},
     "execution_count": 30
    }
   ],
   "source": [
    "dirg.out_degree()"
   ]
  },
  {
   "cell_type": "code",
   "execution_count": 17,
   "metadata": {},
   "outputs": [
    {
     "output_type": "execute_result",
     "data": {
      "text/plain": "[(1, 2, 10),\n (2, 1, 12),\n (1, 3, 13),\n (3, 1, 33),\n (4, 1, 5),\n (4, 2, 22),\n (4, 3, 44),\n (5, 2, 57),\n (2, 5, 42),\n (5, 3, 88)]"
     },
     "metadata": {},
     "execution_count": 17
    }
   ],
   "source": [
    "edge_list"
   ]
  },
  {
   "cell_type": "code",
   "execution_count": null,
   "metadata": {},
   "outputs": [],
   "source": []
  }
 ],
 "metadata": {
  "kernelspec": {
   "display_name": "Python 3",
   "language": "python",
   "name": "python3"
  },
  "language_info": {
   "codemirror_mode": {
    "name": "ipython",
    "version": 3
   },
   "file_extension": ".py",
   "mimetype": "text/x-python",
   "name": "python",
   "nbconvert_exporter": "python",
   "pygments_lexer": "ipython3",
   "version": "3.8.2"
  }
 },
 "nbformat": 4,
 "nbformat_minor": 4
}