{
 "cells": [
  {
   "cell_type": "code",
   "execution_count": 63,
   "metadata": {},
   "outputs": [],
   "source": [
    "import networkx as nx\n",
    "import matplotlib.pyplot as plt"
   ]
  },
  {
   "cell_type": "code",
   "execution_count": 64,
   "metadata": {},
   "outputs": [],
   "source": [
    "G = nx.MultiGraph()\n"
   ]
  },
  {
   "cell_type": "code",
   "execution_count": 65,
   "metadata": {},
   "outputs": [
    {
     "data": {
      "text/plain": [
       "0"
      ]
     },
     "execution_count": 65,
     "metadata": {},
     "output_type": "execute_result"
    }
   ],
   "source": [
    "G.add_edge(1, 2, weight=10)\n",
    "G.add_edge(1,4, weight=12)\n",
    "G.add_edge(4,3, weight=13)\n",
    "G.add_edge(3, 2, weight=33)\n",
    "G.add_edge(4, 5, weight=5)\n",
    "G.add_edge(5, 3, weight=22)\n",
    "G.add_edge(2, 6, weight=44)\n",
    "G.add_edge(6, 3, weight=57)\n",
    "G.add_edge(6, 7, weight=42)\n",
    "G.add_edge(5, 7, weight=88)\n",
    "G.add_edge(6, 8, weight=69)\n",
    "G.add_edge(8, 9, weight=18)\n",
    "G.add_edge(9, 5, weight=95)\n",
    "G.add_edge(7, 8, weight=7)"
   ]
  },
  {
   "cell_type": "code",
   "execution_count": 60,
   "metadata": {},
   "outputs": [
    {
     "data": {
      "text/plain": [
       "MultiEdgeDataView([(1, 2, 10), (1, 4, 12), (2, 3, 33), (2, 6, 44), (4, 3, 13), (4, 5, 5), (3, 5, 22), (3, 6, 57), (5, 7, 88), (5, 9, 95), (6, 7, 42), (6, 8, 69), (7, 8, 7), (8, 9, 18)])"
      ]
     },
     "execution_count": 60,
     "metadata": {},
     "output_type": "execute_result"
    }
   ],
   "source": [
    "a = G.edges(data='weight')\n",
    "a"
   ]
  },
  {
   "cell_type": "code",
   "execution_count": 61,
   "metadata": {},
   "outputs": [
    {
     "data": {
      "image/png": "[encoded data removed]",
      "text/plain": [
       "<Figure size 432x288 with 1 Axes>"
      ]
     },
     "metadata": {},
     "output_type": "display_data"
    }
   ],
   "source": [
    "def print_GRF(G):\n",
    "    lol = nx.Graph(G)\n",
    "\n",
    "    pos = nx.spring_layout(G)\n",
    "\n",
    "    nx.draw_networkx(G, pos)\n",
    "    labels = nx.get_edge_attributes(lol,'weight')\n",
    "    a = nx.draw_networkx_edge_labels(G,pos,edge_labels=labels)\n",
    "print_GRF(G)"
   ]
  },
  {
   "cell_type": "code",
   "execution_count": 62,
   "metadata": {},
   "outputs": [],
   "source": [
    "nodesDegOdd = []\n",
    "for node, degree in G.degree():\n",
    "    if degree % 2 == 1:\n",
    "        nodesDegOdd.append(node)"
   ]
  },
  {
   "cell_type": "code",
   "execution_count": 9,
   "metadata": {},
   "outputs": [
    {
     "data": {
      "text/plain": [
       "[2, 4, 7, 8]"
      ]
     },
     "execution_count": 9,
     "metadata": {},
     "output_type": "execute_result"
    }
   ],
   "source": [
    "nodesDegOdd"
   ]
  },
  {
   "cell_type": "code",
   "execution_count": 10,
   "metadata": {},
   "outputs": [],
   "source": [
    "shortPathList = []\n",
    "for i in range(len(nodesDegOdd)):\n",
    "    u = nodesDegOdd[i]\n",
    "    for v in nodesDegOdd[i + 1:]:\n",
    "        elm = (nx.shortest_path(G, u, v, weight='weight'), -nx.shortest_path_length(G,u,v,weight='weight'))\n",
    "        shortPathList.append(elm)"
   ]
  },
  {
   "cell_type": "code",
   "execution_count": 11,
   "metadata": {},
   "outputs": [
    {
     "data": {
      "text/plain": [
       "[([2, 1, 4], -22),\n",
       " ([2, 6, 7], -86),\n",
       " ([2, 6, 7, 8], -93),\n",
       " ([4, 5, 7], -93),\n",
       " ([4, 5, 7, 8], -100),\n",
       " ([7, 8], -7)]"
      ]
     },
     "execution_count": 11,
     "metadata": {},
     "output_type": "execute_result"
    }
   ],
   "source": [
    "shortPathList"
   ]
  },
  {
   "cell_type": "code",
   "execution_count": 19,
   "metadata": {},
   "outputs": [],
   "source": [
    "nG = nx.Graph()\n",
    "\n",
    "edgeToPath = {}\n",
    "\n",
    "for path in shortPathList:\n",
    "    edge = (path[0][0], path[0][-1])\n",
    "    otherEdge = (path[0][-1], path[0][0])\n",
    "    edgeToPath[edge] = path[0]\n",
    "    edgeToPath[otherEdge] = path[0]\n",
    "    nG.add_edge(edge[0], edge[1], weight=path[1])"
   ]
  },
  {
   "cell_type": "code",
   "execution_count": 20,
   "metadata": {},
   "outputs": [
    {
     "data": {
      "text/plain": [
       "{(2, 4): [2, 1, 4],\n",
       " (4, 2): [2, 1, 4],\n",
       " (2, 7): [2, 6, 7],\n",
       " (7, 2): [2, 6, 7],\n",
       " (2, 8): [2, 6, 7, 8],\n",
       " (8, 2): [2, 6, 7, 8],\n",
       " (4, 7): [4, 5, 7],\n",
       " (7, 4): [4, 5, 7],\n",
       " (4, 8): [4, 5, 7, 8],\n",
       " (8, 4): [4, 5, 7, 8],\n",
       " (7, 8): [7, 8],\n",
       " (8, 7): [7, 8]}"
      ]
     },
     "execution_count": 20,
     "metadata": {},
     "output_type": "execute_result"
    }
   ],
   "source": [
    "edgeToPath"
   ]
  },
  {
   "cell_type": "code",
   "execution_count": 14,
   "metadata": {},
   "outputs": [
    {
     "data": {
      "text/plain": [
       "EdgeDataView([(2, 4, -22), (2, 7, -86), (2, 8, -93), (4, 7, -93), (4, 8, -100), (7, 8, -7)])"
      ]
     },
     "execution_count": 14,
     "metadata": {},
     "output_type": "execute_result"
    }
   ],
   "source": [
    "nG.edges(data='weight')"
   ]
  },
  {
   "cell_type": "code",
   "execution_count": 15,
   "metadata": {},
   "outputs": [
    {
     "data": {
      "image/png": "[encoded data removed]",
      "text/plain": [
       "<Figure size 432x288 with 1 Axes>"
      ]
     },
     "metadata": {},
     "output_type": "display_data"
    }
   ],
   "source": [
    "pos = nx.spring_layout(nG)\n",
    "\n",
    "nx.draw_networkx(nG, pos)\n",
    "labels = nx.get_edge_attributes(nG,'weight')\n",
    "a = nx.draw_networkx_edge_labels(nG,pos,edge_labels=labels)"
   ]
  },
  {
   "cell_type": "code",
   "execution_count": 16,
   "metadata": {},
   "outputs": [
    {
     "name": "stdout",
     "output_type": "stream",
     "text": [
      "{(8, 7), (2, 4)}\n"
     ]
    }
   ],
   "source": [
    "matching = nx.max_weight_matching(nG, True, weight='weight')\n",
    "print(matching)"
   ]
  },
  {
   "cell_type": "code",
   "execution_count": 17,
   "metadata": {},
   "outputs": [
    {
     "data": {
      "text/plain": [
       "MultiEdgeDataView([(1, 2), (1, 4), (2, 3), (2, 6), (4, 3), (4, 5), (3, 5), (3, 6), (5, 7), (5, 9), (6, 7), (6, 8), (7, 8), (8, 9)])"
      ]
     },
     "execution_count": 17,
     "metadata": {},
     "output_type": "execute_result"
    }
   ],
   "source": [
    "G.edges()"
   ]
  },
  {
   "cell_type": "code",
   "execution_count": 21,
   "metadata": {},
   "outputs": [],
   "source": [
    "for edge in matching:\n",
    "    path = edgeToPath[edge]\n",
    "    for i in range(len(path) - 1):\n",
    "        src = path[i]\n",
    "        dst = path[i + 1]\n",
    "        weight = G.edges[src, dst, 0]['weight']\n",
    "        G.add_edge(src, dst, weight)"
   ]
  },
  {
   "cell_type": "code",
   "execution_count": 23,
   "metadata": {},
   "outputs": [
    {
     "data": {
      "image/png": "[encoded data removed]",
      "text/plain": [
       "<Figure size 432x288 with 1 Axes>"
      ]
     },
     "metadata": {},
     "output_type": "display_data"
    }
   ],
   "source": [
    "G.edges()\n",
    "print_GRF(G)"
   ]
  },
  {
   "cell_type": "code",
   "execution_count": 27,
   "metadata": {},
   "outputs": [
    {
     "name": "stdout",
     "output_type": "stream",
     "text": [
      "4\n",
      "4\n",
      "4\n",
      "4\n",
      "4\n",
      "4\n",
      "4\n",
      "4\n",
      "2\n"
     ]
    }
   ],
   "source": [
    "for node, degree in G.degree():\n",
    "    print(degree)"
   ]
  },
  {
   "cell_type": "code",
   "execution_count": 49,
   "metadata": {},
   "outputs": [
    {
     "data": {
      "text/plain": [
       "17"
      ]
     },
     "execution_count": 49,
     "metadata": {},
     "output_type": "execute_result"
    }
   ],
   "source": [
    "len(G.edges())"
   ]
  },
  {
   "cell_type": "code",
   "execution_count": 51,
   "metadata": {},
   "outputs": [],
   "source": [
    "hehe = nx.eulerian_path(G)"
   ]
  },
  {
   "cell_type": "code",
   "execution_count": 53,
   "metadata": {},
   "outputs": [
    {
     "ename": "IndexError",
     "evalue": "list index out of range",
     "output_type": "error",
     "traceback": [
      "\u001b[0;31m---------------------------------------------------------------------------\u001b[0m",
      "\u001b[0;31mIndexError\u001b[0m                                Traceback (most recent call last)",
      "\u001b[0;32m<ipython-input-53-59628db28680>\u001b[0m in \u001b[0;36m<module>\u001b[0;34m\u001b[0m\n\u001b[1;32m      2\u001b[0m \u001b[0;32mfor\u001b[0m \u001b[0mhaha\u001b[0m \u001b[0;32min\u001b[0m \u001b[0mhehe\u001b[0m\u001b[0;34m:\u001b[0m\u001b[0;34m\u001b[0m\u001b[0;34m\u001b[0m\u001b[0m\n\u001b[1;32m      3\u001b[0m     \u001b[0ml\u001b[0m\u001b[0;34m.\u001b[0m\u001b[0mappend\u001b[0m\u001b[0;34m(\u001b[0m\u001b[0mhaha\u001b[0m\u001b[0;34m[\u001b[0m\u001b[0;36m1\u001b[0m\u001b[0;34m]\u001b[0m\u001b[0;34m)\u001b[0m\u001b[0;34m\u001b[0m\u001b[0;34m\u001b[0m\u001b[0m\n\u001b[0;32m----> 4\u001b[0;31m \u001b[0ml\u001b[0m\u001b[0;34m.\u001b[0m\u001b[0minsert\u001b[0m\u001b[0;34m(\u001b[0m\u001b[0;36m0\u001b[0m\u001b[0;34m,\u001b[0m \u001b[0ml\u001b[0m\u001b[0;34m[\u001b[0m\u001b[0;34m-\u001b[0m\u001b[0;36m1\u001b[0m\u001b[0;34m]\u001b[0m\u001b[0;34m)\u001b[0m\u001b[0;34m\u001b[0m\u001b[0;34m\u001b[0m\u001b[0m\n\u001b[0m",
      "\u001b[0;31mIndexError\u001b[0m: list index out of range"
     ]
    }
   ],
   "source": []
  },
  {
   "cell_type": "code",
   "execution_count": 54,
   "metadata": {},
   "outputs": [],
   "source": [
    "# Undirected = MultiGraph\n",
    "def solveNx(g):\n",
    "    # Store nodes having incidence degree that is odd\n",
    "    nodesDegOdd = []\n",
    "    for node, degree in g.degree():\n",
    "        if degree % 2 == 1:\n",
    "            nodesDegOdd.append(node)\n",
    "    \n",
    "    # Find shortest path between each nodes\n",
    "    \n",
    "    shortPathList = []\n",
    "    \n",
    "    for i in range(len(nodesDegOdd)):\n",
    "        u = nodesDegOdd[i]\n",
    "        for v in nodesDegOdd[i:]:\n",
    "            elm = (nx.shortest_path(G, u, v, weight='weight'), -nx.shortest_path_length(G,u,v,weight='weight'))\n",
    "            shortPathList.append(elm)\n",
    "            \n",
    "    \n",
    "    # Make a graph of the odd nodes that links the nodes  by their shortest path\n",
    "    #   each edge will have the shortest path as weight\n",
    "    \n",
    "    nG = nx.Graph()\n",
    "\n",
    "    edgeToPath = {}\n",
    "\n",
    "    for path in shortPathList:\n",
    "        edge = (path[0][0], path[0][-1])\n",
    "        otherEdge = (path[0][-1], path[0][0])\n",
    "        edgeToPath[edge] = path[0]\n",
    "        edgeToPath[otherEdge] = path[0]\n",
    "        nG.add_edge(edge[0], edge[1], weight=path[1])\n",
    "    \n",
    "    # Do the MINIMAL matching weighted matching\n",
    "    \n",
    "    matching = nx.max_weight_matching(nG, True, weight='weight')\n",
    "    \n",
    "    # We have all the edges that represent the minimum paths\n",
    "    \n",
    "    for edge in matching:\n",
    "        path = edgeToPath[edge]\n",
    "        for i in range(len(path) - 1):\n",
    "            src = path[i]\n",
    "            dst = path[i + 1]\n",
    "            weight = G.edges[src, dst, 0]['weight']\n",
    "            G.add_edge(src, dst, weight)\n",
    "    \n",
    "    # Find all paths using edges to add to the original graph for it to be an eulerian cycle\n",
    "    \n",
    "    it = nx.eulerian_path(G)\n",
    "    edgeList = []\n",
    "    for edge in it:\n",
    "        edgeList.append(edge)\n",
    "    return edgeList"
   ]
  },
  {
   "cell_type": "code",
   "execution_count": 67,
   "metadata": {},
   "outputs": [],
   "source": [
    "def solve(is_oriented, num_vertices, edge_list):\n",
    "    g = nx.MultiGraph()\n",
    "    twoEdgeList = []\n",
    "    \n",
    "    for edge in edge_list:\n",
    "        g.add_edge(edge[0], edge[1], weight=edge[2])\n",
    "        twoEdgeList.append(edge[0], edge[1])\n",
    "        \n",
    "    path = solveNx(g)    \n",
    "    \n",
    "    for i in range(len(path)):\n",
    "        path[i] = twoEdgeList.index(path[i])\n",
    "        \n",
    "    return path"
   ]
  },
  {
   "cell_type": "code",
   "execution_count": 66,
   "metadata": {},
   "outputs": [
    {
     "data": {
      "text/plain": [
       "[(1, 4),\n",
       " (4, 5),\n",
       " (5, 9),\n",
       " (9, 8),\n",
       " (8, 7),\n",
       " (7, 8),\n",
       " (8, 6),\n",
       " (6, 7),\n",
       " (7, 5),\n",
       " (5, 3),\n",
       " (3, 6),\n",
       " (6, 2),\n",
       " (2, 3),\n",
       " (3, 4),\n",
       " (4, 1),\n",
       " (1, 2),\n",
       " (2, 1)]"
      ]
     },
     "execution_count": 66,
     "metadata": {},
     "output_type": "execute_result"
    }
   ],
   "source": [
    "solveNx(G)"
   ]
  },
  {
   "cell_type": "code",
   "execution_count": null,
   "metadata": {},
   "outputs": [],
   "source": []
  }
 ],
 "metadata": {
  "kernelspec": {
   "display_name": "Python 3",
   "language": "python",
   "name": "python3"
  },
  "language_info": {
   "codemirror_mode": {
    "name": "ipython",
    "version": 3
   },
   "file_extension": ".py",
   "mimetype": "text/x-python",
   "name": "python",
   "nbconvert_exporter": "python",
   "pygments_lexer": "ipython3",
   "version": "3.8.2"
  }
 },
 "nbformat": 4,
 "nbformat_minor": 4
}
